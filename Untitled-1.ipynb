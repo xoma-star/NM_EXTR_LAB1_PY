{
 "cells": [
  {
   "cell_type": "code",
   "execution_count": 6,
   "metadata": {},
   "outputs": [],
   "source": [
    "import numpy as np\n",
    "from scipy import linalg\n",
    "from scipy.sparse.linalg import cg\n",
    "import matplotlib.pyplot as plt"
   ]
  },
  {
   "cell_type": "markdown",
   "metadata": {},
   "source": [
    "$\\Large func = \\sqrt{\\sum_{i=1}^{m} [\\sum_{j=1}^{n} a_{ij}u_{j}-f_{i}]^2} + h\\sqrt{\\sum_{i=1}^{n} u_{i}^2} + \\sigma$\n",
    "\n",
    "$\\Large diff1 = \n",
    "\\frac{\\sum_{i=1}^{m} a_{ik} [\\sum_{j=1}^{n} a_{ij}u_{j} - f_i ] }\n",
    "{\\sqrt{\\sum_{i=1}^{m} [\\sum_{j=1}^{n} a_{ij}u_{j} - f_i ]^2}} + \n",
    "\\frac{h*u_k}\n",
    "{\\sqrt{\\sum_{j=1}^{n} u_{j}^2}}$\n",
    "\n",
    "$\\Large diff2 = \n",
    "\\Bigl(\\sum_{i=1}^{m} a_{ik} a_{iq} * \\sqrt{\\sum_{i=1}^{m} (\\sum_{j=1}^{n} a_{ij}u_{j} - f_{i})^{2}}-\n",
    "\\frac{(\\sum_{i=1}^{m} a_{iq}[\\sum_{j=1}^{n} a_{ij}u_{j}-f_{i}] )*(\\sum_{i=1}^{m} a_{ik}[\\sum_{j=1}^{n} a_{ij}u_{j}-f_{i}] )}\n",
    "{\\sqrt{\\sum_{i=1}^{m} (\\sum_{j=1}^{n} a_{ij}u_{j} - f_{i})^{2}}}\\Bigr)*\n",
    "\\frac{1}{\\sum_{i=1}^{m} (\\sum_{j=1}^{n} a_{ij}u_{j} - f_{i})^{2}}+\n",
    "\\frac{h}{\\sum_{j=1}^{n} u_{j}^2}*\n",
    "\\Bigl( \\delta_{k,q} * \\sqrt{\\sum_{j=1}^{n} u_{j}^2} - \\frac{u_{q}u_{k}}{\\sqrt{\\sum_{j=1}^{n}u_{j}^2}}\n",
    "\\Bigr)\n",
    "$"
   ]
  },
  {
   "cell_type": "code",
   "execution_count": 7,
   "metadata": {},
   "outputs": [
    {
     "name": "stdout",
     "output_type": "stream",
     "text": [
      "0.02242983481595744\n",
      "0.043932475289121586\n",
      "0.01352792687983013\n"
     ]
    }
   ],
   "source": [
    "np.random.seed(1)\n",
    "\n",
    "a = -1 # min элемент в матрице\n",
    "b = 1 # max элемент в матрице\n",
    "n = 10 # размер матрицы\n",
    "m = n + 2\n",
    "\n",
    "A = a + (b - a) * np.random.rand(n, n)\n",
    "u = a + (b - a) * np.random.rand(n, 1)\n",
    "f = np.matmul(A,u)\n",
    "\n",
    "A = np.append(A, [A[0] + A[n - 1], A[1] + A[n - 2]], axis=0)\n",
    "f = np.append(f, [f[0] + f[n - 1], f[1] + f[n - 2]], axis=0)\n",
    "\n",
    "rand_a = -1 # min bound of fluctuation\n",
    "rand_b = 1 # max bound of fluctuation\n",
    "\n",
    "eps_a = 0.01\n",
    "eps_f = 0.01\n",
    "\n",
    "A_ = A * ( 1 + (rand_a + (rand_b - rand_a) * np.random.rand(n+2, n)) * eps_a)\n",
    "f_ = f * ( 1 + (rand_a + (rand_b - rand_a) * np.random.rand(n+2, 1)) * eps_a)\n",
    "\n",
    "print(np.linalg.norm(np.matmul(A_, u) - f_))\n",
    "h = np.linalg.norm(A - A_)\n",
    "sigma = np.linalg.norm(f - f_)\n",
    "# psi = h * np.linalg.norm(u) + sigma\n",
    "print(h)\n",
    "print(sigma)"
   ]
  },
  {
   "cell_type": "code",
   "execution_count": 8,
   "metadata": {},
   "outputs": [],
   "source": [
    "def L_(v):#correct\n",
    "    buff = np.zeros(5, float)\n",
    "\n",
    "    for i in range(m):\n",
    "        buff[0] = 0\n",
    "        for j in range(n):\n",
    "            buff[0] += A_[i][j] * v[j]\n",
    "        buff[1] += np.power(buff[0] - f_[i], 2)\n",
    "    buff[1] = np.sqrt(buff[1])\n",
    "\n",
    "    for j in range(n):\n",
    "        buff[2] += np.power(v[j], 2)\n",
    "    buff[2] = np.sqrt(buff[2])\n",
    "    \n",
    "    return buff[1] + h * buff[2] + sigma\n",
    "\n",
    "def diff1(k, v):\n",
    "    buff = np.zeros(5, float)\n",
    "\n",
    "    for i in range(m):\n",
    "        buff[0] = 0\n",
    "        for j in range(n):\n",
    "            buff[0] += A_[i][j] * v[j]\n",
    "        buff[0] -= f_[i]\n",
    "        buff[1] += A_[i][k] * buff[0]\n",
    "        buff[2] += np.power(buff[0], 2)\n",
    "\n",
    "    buff[2] = np.sqrt(buff[2])\n",
    "    buff[3] = h * v[k]\n",
    "    for j in range(n):\n",
    "        buff[4] += np.power(v[j], 2)\n",
    "    buff[4] = np.sqrt(buff[4])\n",
    "\n",
    "    return buff[1] / buff[2] + buff[3] / buff[4]\n",
    "\n",
    "def F(x):\n",
    "    return np.array([[diff1(d, x)] for d in range(n)])\n",
    "\n",
    "def gradient_descent_with_fractional_step(f, x_0, eps, M):\n",
    "    k = 0\n",
    "    x_prev = x_0\n",
    "    x = x_prev\n",
    "    t_k = 3\n",
    "    while True:\n",
    "        k += 1\n",
    "        x = x_prev - t_k * np.squeeze(F(x_prev))\n",
    "\n",
    "        if (f(x) - f(x_prev)) < 0:\n",
    "            if np.linalg.norm(x - x_prev) <= eps or k + 1 > M:\n",
    "                return x\n",
    "        else:\n",
    "            t_k /= 2.\n",
    "        x_prev = x\n",
    "\n",
    "def rho(v, lambda_delta):\n",
    "    buff = np.zeros(5, float)\n",
    "    \n",
    "    for i in range(m):\n",
    "        buff[0] = 0\n",
    "        for j in range(n):\n",
    "            buff[0] += A_[i][j] * v[j]\n",
    "        buff[1] += np.power(buff[0] - f_[i], 2)\n",
    "\n",
    "    for j in range(n):\n",
    "        buff[2] += np.power(v[j], 2)\n",
    "    buff[2] = np.sqrt(buff[2])\n",
    "    \n",
    "    return buff[1] - np.power( lambda_delta + sigma + h * buff[2],2 )\n",
    "\n",
    "\n",
    "def LinearCG(A, b, x0, tol=1e-5):\n",
    "    xk = x0\n",
    "    rk = np.dot(A, xk) - b\n",
    "    pk = -rk\n",
    "    rk_norm = np.linalg.norm(rk)\n",
    "    \n",
    "    num_iter = 0\n",
    "    curve_x = [xk]\n",
    "    while rk_norm > tol:\n",
    "        apk = np.dot(A, pk)\n",
    "        rkrk = np.dot(rk, rk)\n",
    "        \n",
    "        alpha = rkrk / np.dot(pk, apk)\n",
    "        xk = xk + alpha * pk\n",
    "        rk = rk + alpha * apk\n",
    "        beta = np.dot(rk, rk) / rkrk\n",
    "        pk = -rk + beta * pk\n",
    "        \n",
    "        num_iter += 1\n",
    "        curve_x.append(xk)\n",
    "        rk_norm = np.linalg.norm(rk)\n",
    "        #print('Iteration: {} \\t x = {} \\t residual = {:.4f}'.format(num_iter, xk, rk_norm))\n",
    "    \n",
    "    #print('\\nSolution: \\t x = {}'.format(xk))\n",
    "        \n",
    "    return np.array(curve_x[-1])"
   ]
  },
  {
   "cell_type": "code",
   "execution_count": 9,
   "metadata": {},
   "outputs": [],
   "source": [
    "x0 = np.squeeze(u)\n",
    "solution_1 = gradient_descent_with_fractional_step(L_, x0, 1e-6, 500)"
   ]
  },
  {
   "cell_type": "code",
   "execution_count": 10,
   "metadata": {},
   "outputs": [
    {
     "name": "stdout",
     "output_type": "stream",
     "text": [
      "-2.662043183097873e-05 0.23510000000008424\n",
      "ans = [-0.34377998 -0.15233788  0.6988866  -0.5646177   0.71923854  0.44456712\n",
      " -0.79871657  0.67070073  0.167034    0.94716718]\n",
      "Точное = [[-0.3467102 ]\n",
      " [ 0.0541162 ]\n",
      " [ 0.7718842 ]\n",
      " [-0.28546048]\n",
      " [ 0.8170703 ]\n",
      " [ 0.24672023]\n",
      " [-0.96835751]\n",
      " [ 0.85887447]\n",
      " [ 0.38179384]\n",
      " [ 0.9946457 ]]\n",
      "norm_ans = 1.9173900999739737\n",
      "norm точного = 2.0831160326948353\n"
     ]
    },
    {
     "data": {
      "image/png": "[encoded data removed]",
      "text/plain": [
       "<Figure size 640x480 with 1 Axes>"
      ]
     },
     "metadata": {},
     "output_type": "display_data"
    }
   ],
   "source": [
    "lambda_delta = L_(solution_1)\n",
    "\n",
    "A_T = np.transpose(A_)\n",
    "\n",
    "alpha = 1\n",
    "val = 1\n",
    "rho_vec = []\n",
    "\n",
    "while val >= 1e-6:\n",
    "    matrix = np.matmul(A_T, A_) + alpha * np.eye(n)\n",
    "    vector = np.squeeze(np.dot(A_T, f_))\n",
    "\n",
    "    # answ = cg(matrix,vector)[0]\n",
    "    answ = LinearCG(matrix, vector, np.zeros(n))\n",
    "\n",
    "    # answ = np.linalg.solve(matrix, vector)\n",
    "    \n",
    "    val = rho(answ, lambda_delta)\n",
    "    alpha -= 0.0001\n",
    "    rho_vec.append(val)\n",
    "\n",
    "plt.plot(rho_vec)\n",
    "plt.title(r'$\\rho$')\n",
    "\n",
    "print(val, alpha)\n",
    "print(f'ans = {answ}')\n",
    "print(f'Точное = {u}')\n",
    "print(f'norm_ans = {np.linalg.norm(answ)}')\n",
    "print(f'norm точного = {np.linalg.norm(u)}')"
   ]
  }
 ],
 "metadata": {
  "kernelspec": {
   "display_name": "Python 3.9.12 ('base')",
   "language": "python",
   "name": "python3"
  },
  "language_info": {
   "codemirror_mode": {
    "name": "ipython",
    "version": 3
   },
   "file_extension": ".py",
   "mimetype": "text/x-python",
   "name": "python",
   "nbconvert_exporter": "python",
   "pygments_lexer": "ipython3",
   "version": "3.9.13"
  },
  "orig_nbformat": 4,
  "vscode": {
   "interpreter": {
    "hash": "b3b23bf8f3f6f09929416757a9e34fd2204c59a899796a7e0ad7c0ed7ebb50e4"
   }
  }
 },
 "nbformat": 4,
 "nbformat_minor": 2
}
